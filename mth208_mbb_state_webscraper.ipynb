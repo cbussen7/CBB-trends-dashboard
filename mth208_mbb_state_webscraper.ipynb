{
  "nbformat": 4,
  "nbformat_minor": 0,
  "metadata": {
    "colab": {
      "provenance": []
    },
    "kernelspec": {
      "name": "python3",
      "display_name": "Python 3"
    },
    "language_info": {
      "name": "python"
    }
  },
  "cells": [
    {
      "cell_type": "code",
      "source": [
        "import pandas as pd\n",
        "import requests\n",
        "from bs4 import BeautifulSoup\n",
        "\n",
        "# Load your existing dataset\n",
        "df = pd.read_csv('cbb23.csv')\n",
        "teams = df.iloc[:,0]\n",
        "\n",
        "# remove periods\n",
        "teams = teams.replace(to_replace='\\.', value='', regex=True)\n",
        "\n",
        "\n",
        "# Scrape the data from the webpage\n",
        "url = 'https://www.ncsasports.org/mens-basketball/division-1-colleges'\n",
        "\n",
        "headers = {\n",
        "    'User-Agent': 'Mozilla/5.0 (Windows NT 10.0; Win64; x64) AppleWebKit/537.36 (KHTML, like Gecko) Chrome/58.0.3029.110 Safari/537.3'\n",
        "}\n",
        "response = requests.get(url, headers=headers)\n",
        "\n",
        "print(response.status_code)  # Should be 200 for a successful request\n",
        "print(response.text[:500])  # Print the first 500 characters of the response text\n",
        "\n",
        "soup = BeautifulSoup(response.content, 'html.parser')"
      ],
      "metadata": {
        "colab": {
          "base_uri": "https://localhost:8080/"
        },
        "id": "HpxDJIrbawr1",
        "outputId": "c3846050-fa44-4c47-c6f1-9a2206a2b809"
      },
      "execution_count": null,
      "outputs": [
        {
          "output_type": "stream",
          "name": "stdout",
          "text": [
            "200\n",
            "<!DOCTYPE html>\n",
            "<html lang=\"en-US\" prefix=\"og: https://ogp.me/ns#\" class=\"no-js\">\n",
            "<head>\n",
            "\t<meta charset=\"UTF-8\" />\n",
            "\t<meta name=\"viewport\" content=\"width=device-width, initial-scale=1\" />\n",
            "\t<meta name=\"audience\" content=\"any\">\n",
            "\n",
            "\t<script>(function(html){html.className = html.className.replace(/\\bno-js\\b/,'js')})(document.documentElement);</script>\n",
            "\t\t<script>\n",
            "\t\t\t! function() {\n",
            "\t\t\twindow.semaphore = window.semaphore || [], window.ketch = function() {\n",
            "\t\t\t\twindow.semaphore.push(arguments)\n",
            "\t\t\t};\n",
            "\t\t\tvar \n"
          ]
        }
      ]
    },
    {
      "cell_type": "code",
      "execution_count": null,
      "metadata": {
        "id": "aEUs90Q3ZhUI"
      },
      "outputs": [],
      "source": [
        "# Extract team names and locations from the webpage\n",
        "team_locations = {}\n",
        "for row in soup.select('.college-list .row'):\n",
        "    # print(row)  # To see what each row contains\n",
        "    # Find the team name\n",
        "    team_name_element = row.find('div', itemprop='name')\n",
        "    if team_name_element:\n",
        "        # print(team_name_element)  # To check if team names are being found\n",
        "        team_name = team_name_element.get_text(strip=True)\n",
        "\n",
        "        # Find the state\n",
        "        state_element = row.find('span', itemprop='addressRegion')\n",
        "        if state_element:\n",
        "            # print(state_element)  # To check if states are being found\n",
        "            state = state_element.get_text(strip=True)\n",
        "            team_locations[team_name] = state"
      ]
    },
    {
      "cell_type": "code",
      "source": [
        "# Function to match team names from your dataset with scraped data\n",
        "def get_location(team, team_locations):\n",
        "    # Iterate through the keys (team names) in the dictionary\n",
        "    for team_name in team_locations.keys():\n",
        "        # Check if the provided team is part of the website's team name\n",
        "        if team.lower() in team_name.lower():\n",
        "            # Return the corresponding location\n",
        "            return team_locations[team_name]\n",
        "\n",
        "    # Return 'Not Found' if no match is found\n",
        "    return 'Not Found'\n",
        "\n",
        "# Update your dataset with the locations\n",
        "df['Location'] = teams.apply(lambda x: get_location(x, team_locations))"
      ],
      "metadata": {
        "id": "gha2xovceBh6"
      },
      "execution_count": null,
      "outputs": []
    },
    {
      "cell_type": "code",
      "source": [
        "# Save the updated dataset\n",
        "df.to_csv('updated_cbb23.csv', index=False)"
      ],
      "metadata": {
        "id": "XrBMhw0EeDDY"
      },
      "execution_count": null,
      "outputs": []
    }
  ]
}